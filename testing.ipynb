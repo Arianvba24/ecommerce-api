{
 "cells": [
  {
   "cell_type": "code",
   "execution_count": 10,
   "id": "4b6034c4",
   "metadata": {},
   "outputs": [
    {
     "name": "stdout",
     "output_type": "stream",
     "text": [
      "f0a3a47a7cee5b47264a4ca8654970a63bb75519fdedceb62d51d231796a1818\n"
     ]
    }
   ],
   "source": [
    "import os\n",
    "\n",
    "data = os.urandom(32).hex()\n",
    "\n",
    "print(data)"
   ]
  }
 ],
 "metadata": {
  "kernelspec": {
   "display_name": "pyinstaller_cosas-4PiJ-zNG",
   "language": "python",
   "name": "python3"
  },
  "language_info": {
   "codemirror_mode": {
    "name": "ipython",
    "version": 3
   },
   "file_extension": ".py",
   "mimetype": "text/x-python",
   "name": "python",
   "nbconvert_exporter": "python",
   "pygments_lexer": "ipython3",
   "version": "3.11.9"
  }
 },
 "nbformat": 4,
 "nbformat_minor": 5
}
